{
 "cells": [
  {
   "cell_type": "code",
   "execution_count": null,
   "metadata": {},
   "outputs": [],
   "source": []
  },
  {
   "cell_type": "code",
   "execution_count": 2,
   "metadata": {},
   "outputs": [
    {
     "name": "stdout",
     "output_type": "stream",
     "text": [
      "2\n"
     ]
    }
   ],
   "source": [
    "#find index midpoint such that sum of elements on left == sum of elements of right\n",
    "#[1,4,3,2,3]\n",
    "def find_mid_index(nums):\n",
    "    l_sum, r_sum = 0, sum(nums)\n",
    "    for i in range(len(nums)):\n",
    "        r_sum -= nums[i]\n",
    "        if r_sum == l_sum:\n",
    "            return i\n",
    "        l_sum += nums[i]\n",
    "    return -1\n",
    "\n",
    "nums = [1,4,3,2,3]\n",
    "result = find_mid_index(nums)\n",
    "print(result)"
   ]
  }
 ],
 "metadata": {
  "interpreter": {
   "hash": "ac59ebe37160ed0dfa835113d9b8498d9f09ceb179beaac4002f036b9467c963"
  },
  "kernelspec": {
   "display_name": "Python 3.9.2 64-bit",
   "name": "python3"
  },
  "language_info": {
   "codemirror_mode": {
    "name": "ipython",
    "version": 3
   },
   "file_extension": ".py",
   "mimetype": "text/x-python",
   "name": "python",
   "nbconvert_exporter": "python",
   "pygments_lexer": "ipython3",
   "version": "3.9.2"
  },
  "orig_nbformat": 4
 },
 "nbformat": 4,
 "nbformat_minor": 2
}
