{
 "cells": [
  {
   "cell_type": "code",
   "execution_count": null,
   "metadata": {},
   "outputs": [],
   "source": []
  },
  {
   "cell_type": "code",
   "execution_count": 2,
   "metadata": {},
   "outputs": [
    {
     "name": "stdout",
     "output_type": "stream",
     "text": [
      "2\n"
     ]
    }
   ],
   "source": [
    "#find index midpoint such that sum of elements on left == sum of elements of right\n",
    "#[1,4,3,2,3]\n",
    "def find_mid_index(nums):\n",
    "    l_sum, r_sum = 0, sum(nums)\n",
    "    for i in range(len(nums)):\n",
    "        r_sum -= nums[i]\n",
    "        if r_sum == l_sum:\n",
    "            return i\n",
    "        l_sum += nums[i]\n",
    "    return -1\n",
    "\n",
    "nums = [1,4,3,2,3]\n",
    "result = find_mid_index(nums)\n",
    "print(result)"
   ]
  },
  {
   "cell_type": "code",
   "execution_count": 6,
   "metadata": {},
   "outputs": [
    {
     "name": "stdout",
     "output_type": "stream",
     "text": [
      "[1, 3, 5]\n"
     ]
    }
   ],
   "source": [
    "#remove even integers\n",
    "def remove_even(lst):\n",
    "    \n",
    "    for i in range(len(lst)):\n",
    "        \n",
    "        return [x for x in lst if x % 2 != 0]\n",
    "    \n",
    "            \n",
    "            \n",
    "lst = [1,2,3,4,5,6]\n",
    "result = remove_even(lst)\n",
    "print(result)"
   ]
  },
  {
   "cell_type": "code",
   "execution_count": 4,
   "metadata": {},
   "outputs": [
    {
     "name": "stdout",
     "output_type": "stream",
     "text": [
      "0\n"
     ]
    }
   ],
   "source": [
    "\"\"\" You are given an integer array nums where the largest integer is unique.\n",
    "\n",
    "Determine whether the largest element in the array is at least twice as much as every other number in the array. If it is, return the index of the largest element, or return -1 otherwise\"\"\""
   ]
  },
  {
   "cell_type": "code",
   "execution_count": 5,
   "metadata": {},
   "outputs": [
    {
     "name": "stdout",
     "output_type": "stream",
     "text": [
      "-1\n"
     ]
    }
   ],
   "source": [
    "def dominant_index(nums):\n",
    "    max_number = max(nums)\n",
    "    max_index = nums.index(max_number)\n",
    "    \n",
    "    for i in range(len(nums)):\n",
    "        if nums[i] < max_number and nums[i] * 2 > max_number:\n",
    "            return -1\n",
    "    return max_index\n",
    "\n",
    "nums = [1,2,3,4]\n",
    "result = dominant_index(nums)\n",
    "print(result)"
   ]
  },
  {
   "cell_type": "code",
   "execution_count": 30,
   "metadata": {},
   "outputs": [
    {
     "name": "stdout",
     "output_type": "stream",
     "text": [
      "[1, 0]\n"
     ]
    }
   ],
   "source": [
    "\"\"\" You are given a large integer represented as an integer array digits, where each digits[i] is the ith digit of the integer. The digits are ordered from most significant to least significant in left-to-right order. The large integer does not contain any leading 0's.\n",
    "\n",
    "Increment the large integer by one and return the resulting array of digits.\"\"\"\n",
    "\n",
    "\n",
    "\n",
    "def plusOne(digits):\n",
    "\n",
    "    if digits[-1] == 9:\n",
    "        new_l = int(''.join(str(i) for i in digits))\n",
    "        new_l += 1\n",
    "        new_l2 = [int(i) for i in str(new_l)]\n",
    "        return new_l2\n",
    "\n",
    "    else:\n",
    "        digits[-1] += 1\n",
    "        return digits\n",
    "        \n",
    "digits = [9]\n",
    "result = plusOne(digits)\n",
    "print(result)"
   ]
  },
  {
   "cell_type": "code",
   "execution_count": 9,
   "metadata": {},
   "outputs": [
    {
     "name": "stdout",
     "output_type": "stream",
     "text": [
      "[2, 4, 5, 6, 7, 8, 9]\n"
     ]
    }
   ],
   "source": [
    "#merge two sorted lists in place\n",
    "def merge_lists(lst1, lst2):\n",
    "    ind1 = 0\n",
    "    ind2 = 0\n",
    "    while(ind1 < len(lst1) and ind2 < len(lst2)):\n",
    "        if(lst1[ind1] > lst2[ind2]):\n",
    "            lst1.insert(ind1, lst2[ind2])\n",
    "            ind1 += 1\n",
    "            ind2 += 1\n",
    "        else:\n",
    "            ind1 += 1\n",
    "\n",
    "    if(ind2 < len(lst2)):\n",
    "        lst1.extend(lst2[ind2:])\n",
    "    return lst1\n",
    "\n",
    "lst1 = [4,6,8,9]\n",
    "lst2 = [2,5,7]\n",
    "#result = merge_lists(lst1, lst2)\n",
    "print(merge_lists(lst1, lst2))"
   ]
  },
  {
   "cell_type": "code",
   "execution_count": 13,
   "metadata": {},
   "outputs": [
    {
     "name": "stdout",
     "output_type": "stream",
     "text": [
      "[1, 2, 3, 0, 0, 0]\n"
     ]
    }
   ],
   "source": [
    "#merge sorted list excludind some elements\n",
    "#m = first elements in nums1 to be merged, n = len of nums2\n",
    "\n",
    "def merge(self, nums1, m, nums2, n):\n",
    "    \t\t\ti, j, k = m-1, n-1, m+n-1\n",
    "\t\t\t\n",
    "\t\t\twhile i >= 0 and j >= 0:\n",
    "\t\t\t\tif nums1[i] >= nums2[j]:\n",
    "\t\t\t\t\tnums1[k] = nums1[i]\n",
    "\t\t\t\t\ti -= 1\n",
    "\t\t\t\telse:\n",
    "\t\t\t\t\tnums1[k] = nums2[j]\n",
    "\t\t\t\t\tj -= 1\n",
    "\t\t\t\tk -= 1\n",
    "\n",
    "\t\t\twhile j>=0:\n",
    "\t\t\t\tnums1[k] = nums2[j]\n",
    "\t\t\t\tk -= 1\n",
    "\t\t\t\tj -= 1\n",
    "\t\t\t\n",
    "    \n",
    "    \n",
    "    "
   ]
  },
  {
   "cell_type": "code",
   "execution_count": 27,
   "metadata": {},
   "outputs": [
    {
     "name": "stdout",
     "output_type": "stream",
     "text": [
      "-1\n"
     ]
    }
   ],
   "source": [
    "#two sum\n",
    "def find_largest(numbers):\n",
    "    # Your code goes here\n",
    "    \n",
    "        # Your code goes here\n",
    "    if len(numbers) > 0:\n",
    "            max_n = max(numbers)\n",
    "            return max_n\n",
    "    \n",
    "    \n",
    "    \n",
    "\n",
    "    return 0\n",
    "\n",
    "numbers = [-1, -13, -44, -6]\n",
    "print(find_largest(numbers))"
   ]
  },
  {
   "cell_type": "code",
   "execution_count": 8,
   "metadata": {},
   "outputs": [
    {
     "name": "stdout",
     "output_type": "stream",
     "text": [
      "2\n"
     ]
    }
   ],
   "source": [
    "myList = [-55, -33, -2, 17, 4, 44, 6]\n",
    "\n",
    "min_val, idx = min([(abs(val), idx) for (idx, val) in enumerate(myList)])\n",
    "\n",
    "print(min_val)"
   ]
  },
  {
   "cell_type": "code",
   "execution_count": 51,
   "metadata": {},
   "outputs": [
    {
     "name": "stdout",
     "output_type": "stream",
     "text": [
      "1\n"
     ]
    }
   ],
   "source": [
    "def compute(ts):\n",
    "    # Write your code here\n",
    "    if len(ts) == 0:\n",
    "        return 0\n",
    "    elif len(ts) == 1:\n",
    "        return ts[0]\n",
    "    else:\n",
    "        i = 0\n",
    "        val = 0\n",
    "        abs_diff = []\n",
    "        while i < len(ts):\n",
    "            abs_diff.append(abs(ts[i] - val))\n",
    "            i += 1  #[-10, 4, -4, 17] => [10, 4, 4, 17]\n",
    "        tx = min(abs_diff)\n",
    "        ta = ts[abs_diff.index(tx)]\n",
    "        \n",
    "        if abs(ta) in ts:\n",
    "            return abs(ta)\n",
    "        else:\n",
    "            return ta\n",
    "            \n",
    "            \n",
    "\n",
    "        # To debug: print(\"Debug messages...\", file=sys.stderr, flush=True)\n",
    "    return 0\n",
    "\n",
    "ts = [-7,-5,-9,-1,-4,1]\n",
    "print(compute(ts))"
   ]
  },
  {
   "cell_type": "code",
   "execution_count": 55,
   "metadata": {},
   "outputs": [
    {
     "name": "stdout",
     "output_type": "stream",
     "text": [
      "1\n",
      "2\n",
      "3 Fizz\n",
      "4\n",
      "5 Buzz\n",
      "6 Fizz\n",
      "7\n",
      "8\n",
      "9 Fizz\n",
      "10 Buzz\n",
      "11\n",
      "12 Fizz\n",
      "13\n",
      "14\n",
      "15 FizzBuzz\n",
      "16\n",
      "17\n",
      "18 Fizz\n",
      "19\n",
      "20 Buzz\n"
     ]
    }
   ],
   "source": [
    "def fizzbuzz(num):\n",
    "    for i in range(1, num+1):\n",
    "        if i % 5 == 0 and i % 3 == 0:\n",
    "            print(i, \"FizzBuzz\")\n",
    "        elif i % 3 == 0:\n",
    "            print(i, \"Fizz\")\n",
    "        elif i % 5 == 0:\n",
    "            print(i, \"Buzz\")\n",
    "        else:\n",
    "            print(i)\n",
    "            \n",
    "    \n",
    "    \n",
    "    \n",
    "\n",
    "fizzbuzz(20)"
   ]
  },
  {
   "cell_type": "code",
   "execution_count": 66,
   "metadata": {},
   "outputs": [
    {
     "name": "stdout",
     "output_type": "stream",
     "text": [
      "[3, 5, 6, 7, 9, 10, 12, 14, 15, 18, 20, 21, 24, 25, 27, 28, 30, 33, 35, 36, 39]\n",
      "[]\n"
     ]
    }
   ],
   "source": [
    "x = []\n",
    "\n",
    "def fizz(num):\n",
    "    for i in range(1, num):\n",
    "        if i % 3 == 0 and i % 5 == 0 and i % 7 == 0:\n",
    "            x.append(i)\n",
    "        elif i % 3 == 0 and i % 5 == 0:\n",
    "            x.append(i)\n",
    "        elif i % 3 == 0 and i % 7 == 0:\n",
    "            x.append(i)\n",
    "        elif i % 5 == 0 and i % 7 == 0:\n",
    "            x.append(i)\n",
    "        elif i % 3 == 0:\n",
    "            x.append(i)\n",
    "        elif i % 5 == 0:\n",
    "            x.append(i)\n",
    "        elif i % 7 == 0:\n",
    "            x.append(i)\n",
    "    #y = sum(x) + sum(b) + sum(c) +sum\n",
    "    #print(y)\n",
    "    print(x)\n",
    "    print(b)\n",
    "    # print(c)\n",
    "    # print(d)\n",
    "            \n",
    "    \n",
    "    \n",
    "    \n",
    "\n",
    "fizz(40)"
   ]
  },
  {
   "cell_type": "code",
   "execution_count": null,
   "metadata": {},
   "outputs": [],
   "source": [
    "def fizz(num):\n",
    "    "
   ]
  }
 ],
 "metadata": {
  "interpreter": {
   "hash": "ac59ebe37160ed0dfa835113d9b8498d9f09ceb179beaac4002f036b9467c963"
  },
  "kernelspec": {
   "display_name": "Python 3.9.2 64-bit",
   "name": "python3"
  },
  "language_info": {
   "codemirror_mode": {
    "name": "ipython",
    "version": 3
   },
   "file_extension": ".py",
   "mimetype": "text/x-python",
   "name": "python",
   "nbconvert_exporter": "python",
   "pygments_lexer": "ipython3",
   "version": "3.9.2"
  },
  "orig_nbformat": 4
 },
 "nbformat": 4,
 "nbformat_minor": 2
}
