{
 "cells": [
  {
   "cell_type": "code",
   "execution_count": null,
   "metadata": {},
   "outputs": [],
   "source": []
  },
  {
   "cell_type": "code",
   "execution_count": 2,
   "metadata": {},
   "outputs": [
    {
     "name": "stdout",
     "output_type": "stream",
     "text": [
      "2\n"
     ]
    }
   ],
   "source": [
    "#find index midpoint such that sum of elements on left == sum of elements of right\n",
    "#[1,4,3,2,3]\n",
    "def find_mid_index(nums):\n",
    "    l_sum, r_sum = 0, sum(nums)\n",
    "    for i in range(len(nums)):\n",
    "        r_sum -= nums[i]\n",
    "        if r_sum == l_sum:\n",
    "            return i\n",
    "        l_sum += nums[i]\n",
    "    return -1\n",
    "\n",
    "nums = [1,4,3,2,3]\n",
    "result = find_mid_index(nums)\n",
    "print(result)"
   ]
  },
  {
   "cell_type": "code",
   "execution_count": 4,
   "metadata": {},
   "outputs": [
    {
     "name": "stdout",
     "output_type": "stream",
     "text": [
      "0\n"
     ]
    }
   ],
   "source": [
    "\"\"\" You are given an integer array nums where the largest integer is unique.\n",
    "\n",
    "Determine whether the largest element in the array is at least twice as much as every other number in the array. If it is, return the index of the largest element, or return -1 otherwise\"\"\""
   ]
  },
  {
   "cell_type": "code",
   "execution_count": 5,
   "metadata": {},
   "outputs": [
    {
     "name": "stdout",
     "output_type": "stream",
     "text": [
      "-1\n"
     ]
    }
   ],
   "source": [
    "def dominant_index(nums):\n",
    "    max_number = max(nums)\n",
    "    max_index = nums.index(max_number)\n",
    "    \n",
    "    for i in range(len(nums)):\n",
    "        if nums[i] < max_number and nums[i] * 2 > max_number:\n",
    "            return -1\n",
    "    return max_index\n",
    "\n",
    "nums = [1,2,3,4]\n",
    "result = dominant_index(nums)\n",
    "print(result)"
   ]
  },
  {
   "cell_type": "code",
   "execution_count": 30,
   "metadata": {},
   "outputs": [
    {
     "name": "stdout",
     "output_type": "stream",
     "text": [
      "[1, 0]\n"
     ]
    }
   ],
   "source": [
    "\"\"\" You are given a large integer represented as an integer array digits, where each digits[i] is the ith digit of the integer. The digits are ordered from most significant to least significant in left-to-right order. The large integer does not contain any leading 0's.\n",
    "\n",
    "Increment the large integer by one and return the resulting array of digits.\"\"\"\n",
    "\n",
    "\n",
    "\n",
    "def plusOne(digits):\n",
    "\n",
    "    if digits[-1] == 9:\n",
    "        new_l = int(''.join(str(i) for i in digits))\n",
    "        new_l += 1\n",
    "        new_l2 = [int(i) for i in str(new_l)]\n",
    "        return new_l2\n",
    "\n",
    "    else:\n",
    "        digits[-1] += 1\n",
    "        return digits\n",
    "        \n",
    "digits = [9]\n",
    "result = plusOne(digits)\n",
    "print(result)"
   ]
  },
  {
   "cell_type": "code",
   "execution_count": 27,
   "metadata": {},
   "outputs": [
    {
     "name": "stdout",
     "output_type": "stream",
     "text": [
      "100\n"
     ]
    }
   ],
   "source": []
  }
 ],
 "metadata": {
  "interpreter": {
   "hash": "ac59ebe37160ed0dfa835113d9b8498d9f09ceb179beaac4002f036b9467c963"
  },
  "kernelspec": {
   "display_name": "Python 3.9.2 64-bit",
   "name": "python3"
  },
  "language_info": {
   "codemirror_mode": {
    "name": "ipython",
    "version": 3
   },
   "file_extension": ".py",
   "mimetype": "text/x-python",
   "name": "python",
   "nbconvert_exporter": "python",
   "pygments_lexer": "ipython3",
   "version": "3.9.2"
  },
  "orig_nbformat": 4
 },
 "nbformat": 4,
 "nbformat_minor": 2
}
