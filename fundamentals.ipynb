{
 "cells": [
  {
   "cell_type": "code",
   "execution_count": 4,
   "metadata": {},
   "outputs": [
    {
     "name": "stdout",
     "output_type": "stream",
     "text": [
      "7,14,21,28,42,49,56,63,77,84,91,98,112,119,126,133,147,154,161,168,182,189,196\n"
     ]
    }
   ],
   "source": [
    "#print in a comma separated single line numbers divisible by 7 which are not multiples of 5 from 2000 to 3200\n",
    "\n",
    "n_arr = []\n",
    "for i in range(1, 201):\n",
    "    if i % 7 == 0 and i % 5 != 0:\n",
    "        n_arr.append(str(i))\n",
    "        \n",
    "print(','.join(n_arr))  "
   ]
  },
  {
   "cell_type": "code",
   "execution_count": 6,
   "metadata": {},
   "outputs": [
    {
     "data": {
      "text/plain": [
       "720"
      ]
     },
     "execution_count": 6,
     "metadata": {},
     "output_type": "execute_result"
    }
   ],
   "source": [
    "#compute factorial of a number and print the results in a comma-seprated single line\n",
    "\n",
    "def fact(x):\n",
    "    if x == 0:\n",
    "        return 1\n",
    "    return x * fact(x -1)\n",
    "\n",
    "fact(6)"
   ]
  },
  {
   "cell_type": "code",
   "execution_count": 14,
   "metadata": {},
   "outputs": [
    {
     "data": {
      "text/plain": [
       "{1: 1, 2: 4, 3: 9, 4: 16, 5: 25, 6: 36, 7: 49, 8: 64, 9: 81, 10: 100}"
      ]
     },
     "execution_count": 14,
     "metadata": {},
     "output_type": "execute_result"
    }
   ],
   "source": [
    "#A program that generates a dictionary containing (i, i*i) between 1 and n with both inclusive\n",
    "def generate(n):\n",
    "    n_dict = dict()\n",
    "    for i in range(1, n+1):\n",
    "        n_dict[i] = i * i\n",
    "    return n_dict\n",
    "        \n",
    "generate(10)"
   ]
  },
  {
   "cell_type": "code",
   "execution_count": 17,
   "metadata": {},
   "outputs": [
    {
     "name": "stdout",
     "output_type": "stream",
     "text": [
      "['1', '2', '3']\n",
      "('1', '2', '3')\n"
     ]
    }
   ],
   "source": [
    "#program that accepts comma-seperated numbers as input and generates corresponding list and tuple\n",
    "#input is always a string\n",
    "def generate(nums):\n",
    "    num_list = list(nums.split(','))\n",
    "    num_tuple = tuple(num_list)\n",
    "    \n",
    "    print(num_list)\n",
    "    print(num_tuple)\n",
    "    \n",
    "nums = input()\n",
    "generate(nums)\n"
   ]
  },
  {
   "cell_type": "code",
   "execution_count": 19,
   "metadata": {},
   "outputs": [
    {
     "name": "stdout",
     "output_type": "stream",
     "text": [
      "['I w', 'nt to th', ' mark', 't']\n"
     ]
    }
   ],
   "source": [
    "my_str = 'I went to the market'\n",
    "my_str2 = my_str.split('e')\n",
    "print(my_str2)"
   ]
  },
  {
   "cell_type": "code",
   "execution_count": 23,
   "metadata": {},
   "outputs": [
    {
     "name": "stdout",
     "output_type": "stream",
     "text": [
      "HEKKO\n"
     ]
    }
   ],
   "source": [
    "class Prog():\n",
    "    def __init__ (self):\n",
    "        self.my_str = \"\"\n",
    "        \n",
    "    def getString(self):\n",
    "        self.my_str = input()\n",
    "        \n",
    "    def printString(self):\n",
    "        print(self.my_str.upper())\n",
    "        \n",
    "input_test = Prog()\n",
    "input_test.getString()\n",
    "input_test.printString()\n",
    "        "
   ]
  },
  {
   "cell_type": "code",
   "execution_count": null,
   "metadata": {},
   "outputs": [],
   "source": []
  },
  {
   "cell_type": "code",
   "execution_count": 40,
   "metadata": {},
   "outputs": [
    {
     "name": "stdout",
     "output_type": "stream",
     "text": [
      "12,9,8\n"
     ]
    }
   ],
   "source": [
    "import math\n",
    "\n",
    "def calculate(nums):\n",
    "    h_values = [x for x in nums.split(',')]\n",
    "    q_values = []\n",
    "    \n",
    "    for i in h_values:\n",
    "        q_values.append(str(round(math.sqrt((2 * 50 * 30) / int(i)))))\n",
    "    print(','.join(q_values))\n",
    "    \n",
    "nums = input()\n",
    "calculate(nums)\n"
   ]
  }
 ],
 "metadata": {
  "interpreter": {
   "hash": "ac59ebe37160ed0dfa835113d9b8498d9f09ceb179beaac4002f036b9467c963"
  },
  "kernelspec": {
   "display_name": "Python 3.9.2 64-bit",
   "name": "python3"
  },
  "language_info": {
   "codemirror_mode": {
    "name": "ipython",
    "version": 3
   },
   "file_extension": ".py",
   "mimetype": "text/x-python",
   "name": "python",
   "nbconvert_exporter": "python",
   "pygments_lexer": "ipython3",
   "version": "3.9.2"
  },
  "orig_nbformat": 4
 },
 "nbformat": 4,
 "nbformat_minor": 2
}
