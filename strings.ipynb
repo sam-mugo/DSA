{
 "cells": [
  {
   "cell_type": "code",
   "execution_count": null,
   "metadata": {},
   "outputs": [],
   "source": [
    "#using split and join for string formating\n",
    "def split_and_join(line):\n",
    "    \n",
    "    a = line.split(\" \")\n",
    "    a = \"-\".join(a)\n",
    "    return a"
   ]
  }
 ],
 "metadata": {
  "language_info": {
   "name": "python"
  },
  "orig_nbformat": 4
 },
 "nbformat": 4,
 "nbformat_minor": 2
}
